{
 "cells": [
  {
   "cell_type": "markdown",
   "metadata": {
    "colab": {},
    "colab_type": "code",
    "id": "W-rV8PFK_Y6x"
   },
   "source": [
    "## Face Mask Detection"
   ]
  },
  {
   "cell_type": "code",
   "execution_count": 1,
   "metadata": {},
   "outputs": [
    {
     "name": "stdout",
     "output_type": "stream",
     "text": [
      "WARNING:tensorflow:From C:\\ProgramData\\anaconda3\\Lib\\site-packages\\keras\\src\\losses.py:2976: The name tf.losses.sparse_softmax_cross_entropy is deprecated. Please use tf.compat.v1.losses.sparse_softmax_cross_entropy instead.\n",
      "\n"
     ]
    }
   ],
   "source": [
    "from tensorflow.keras.applications import ResNet50\n",
    "from tensorflow.keras.models import Sequential\n",
    "from tensorflow.keras.layers import Dense, Flatten, GlobalAveragePooling2D\n",
    "from tensorflow.keras.applications.resnet50 import preprocess_input\n",
    "from tensorflow.keras.preprocessing.image import ImageDataGenerator\n",
    "import numpy as np\n",
    "import pandas as pd\n",
    "import re"
   ]
  },
  {
   "cell_type": "markdown",
   "metadata": {
    "colab_type": "text",
    "id": "s2XIAghN7P2T"
   },
   "source": [
    "# Defining Model"
   ]
  },
  {
   "cell_type": "code",
   "execution_count": 2,
   "metadata": {
    "colab": {},
    "colab_type": "code",
    "id": "vKkp55Gp7O3w"
   },
   "outputs": [
    {
     "name": "stdout",
     "output_type": "stream",
     "text": [
      "WARNING:tensorflow:From C:\\ProgramData\\anaconda3\\Lib\\site-packages\\keras\\src\\backend.py:873: The name tf.get_default_graph is deprecated. Please use tf.compat.v1.get_default_graph instead.\n",
      "\n",
      "WARNING:tensorflow:From C:\\ProgramData\\anaconda3\\Lib\\site-packages\\keras\\src\\layers\\normalization\\batch_normalization.py:979: The name tf.nn.fused_batch_norm is deprecated. Please use tf.compat.v1.nn.fused_batch_norm instead.\n",
      "\n"
     ]
    }
   ],
   "source": [
    "num_classes = 2\n",
    "MaskDetectionModel = Sequential()\n",
    "MaskDetectionModel.add(ResNet50(include_top=False, pooling='avg', weights='imagenet'))\n",
    "MaskDetectionModel.add(Dense(num_classes, activation='softmax'))\n",
    "MaskDetectionModel.layers[0].trainable = False\n"
   ]
  },
  {
   "cell_type": "markdown",
   "metadata": {
    "colab_type": "text",
    "id": "m5A52wNc7UPm"
   },
   "source": [
    "# CompileModel"
   ]
  },
  {
   "cell_type": "code",
   "execution_count": 3,
   "metadata": {
    "colab": {},
    "colab_type": "code",
    "id": "On1zsbm9AEtA"
   },
   "outputs": [
    {
     "name": "stdout",
     "output_type": "stream",
     "text": [
      "WARNING:tensorflow:From C:\\ProgramData\\anaconda3\\Lib\\site-packages\\keras\\src\\optimizers\\__init__.py:309: The name tf.train.Optimizer is deprecated. Please use tf.compat.v1.train.Optimizer instead.\n",
      "\n"
     ]
    }
   ],
   "source": [
    "MaskDetectionModel.compile(optimizer='sgd', loss='categorical_crossentropy', metrics=['accuracy'])\n"
   ]
  },
  {
   "cell_type": "markdown",
   "metadata": {
    "colab_type": "text",
    "id": "wLgrkDwp7hHr"
   },
   "source": [
    "# Image augmentation for preprocessing image"
   ]
  },
  {
   "cell_type": "code",
   "execution_count": 4,
   "metadata": {
    "colab": {},
    "colab_type": "code",
    "id": "v6d3tF3OMzHL"
   },
   "outputs": [],
   "source": [
    "\n",
    "data_generator_with_aug = ImageDataGenerator(preprocessing_function=preprocess_input,horizontal_flip = True, width_shift_range = 0.1,height_shift_range = 0.1)\n",
    "            \n",
    "\n",
    "data_generator_no_aug = ImageDataGenerator(preprocessing_function=preprocess_input)"
   ]
  },
  {
   "cell_type": "markdown",
   "metadata": {
    "colab_type": "text",
    "id": "xP9TPIKL8KrE"
   },
   "source": [
    "# Take image directly from director and apply augmentation"
   ]
  },
  {
   "cell_type": "code",
   "execution_count": 5,
   "metadata": {
    "colab": {
     "base_uri": "https://localhost:8080/",
     "height": 54
    },
    "colab_type": "code",
    "id": "Xd15VDFhDe3O",
    "outputId": "69dcdfb1-1a77-4869-d5e1-7cd4e19e3d43"
   },
   "outputs": [
    {
     "name": "stdout",
     "output_type": "stream",
     "text": [
      "Found 8365 images belonging to 2 classes.\n",
      "Found 1483 images belonging to 2 classes.\n"
     ]
    }
   ],
   "source": [
    "\n",
    "image_size = 224\n",
    "\n",
    "\n",
    "train_generator = data_generator_with_aug.flow_from_directory(\n",
    "                                        directory='train',\n",
    "                                        classes = ['with_mask', 'without_mask'],\n",
    "                                        target_size=(image_size, image_size),\n",
    "                                        batch_size=10,\n",
    "                                        class_mode='categorical')\n",
    "\n",
    "validation_generator = data_generator_no_aug.flow_from_directory(\n",
    "                                        directory='val',\n",
    "                                        classes = ['with_mask', 'without_mask'],\n",
    "                                        target_size=(image_size, image_size),\n",
    "                                        class_mode='categorical')"
   ]
  },
  {
   "cell_type": "markdown",
   "metadata": {
    "colab_type": "text",
    "id": "egyQU56K8XOa"
   },
   "source": [
    "# Fit the MaskDetectionModel"
   ]
  },
  {
   "cell_type": "code",
   "execution_count": 6,
   "metadata": {
    "colab": {
     "base_uri": "https://localhost:8080/",
     "height": 163
    },
    "colab_type": "code",
    "id": "TDY-C13s8Zva",
    "outputId": "01160775-a467-4644-9d9a-de3026895d1f"
   },
   "outputs": [
    {
     "name": "stderr",
     "output_type": "stream",
     "text": [
      "C:\\Users\\vinay\\AppData\\Local\\Temp\\ipykernel_21984\\591006825.py:1: UserWarning: `Model.fit_generator` is deprecated and will be removed in a future version. Please use `Model.fit`, which supports generators.\n",
      "  fit_stats = MaskDetectionModel.fit_generator(train_generator,\n"
     ]
    },
    {
     "name": "stdout",
     "output_type": "stream",
     "text": [
      "Epoch 1/4\n",
      "WARNING:tensorflow:From C:\\ProgramData\\anaconda3\\Lib\\site-packages\\keras\\src\\utils\\tf_utils.py:492: The name tf.ragged.RaggedTensorValue is deprecated. Please use tf.compat.v1.ragged.RaggedTensorValue instead.\n",
      "\n",
      "WARNING:tensorflow:From C:\\ProgramData\\anaconda3\\Lib\\site-packages\\keras\\src\\engine\\base_layer_utils.py:384: The name tf.executing_eagerly_outside_functions is deprecated. Please use tf.compat.v1.executing_eagerly_outside_functions instead.\n",
      "\n",
      "60/60 [==============================] - 81s 1s/step - loss: 0.1987 - accuracy: 0.9361 - val_loss: 0.0490 - val_accuracy: 1.0000\n",
      "Epoch 2/4\n",
      "60/60 [==============================] - 66s 1s/step - loss: 0.0784 - accuracy: 0.9717 - val_loss: 0.0351 - val_accuracy: 0.9688\n",
      "Epoch 3/4\n",
      "60/60 [==============================] - 69s 1s/step - loss: 0.0440 - accuracy: 0.9867 - val_loss: 0.0367 - val_accuracy: 1.0000\n",
      "Epoch 4/4\n",
      "60/60 [==============================] - 60s 988ms/step - loss: 0.0349 - accuracy: 0.9933 - val_loss: 0.0728 - val_accuracy: 0.9688\n"
     ]
    }
   ],
   "source": [
    "fit_stats = MaskDetectionModel.fit_generator(train_generator,\n",
    "                                       steps_per_epoch=60,\n",
    "                                       epochs = 4,\n",
    "                                       validation_data=validation_generator,\n",
    "                                       validation_steps=1)"
   ]
  },
  {
   "cell_type": "markdown",
   "metadata": {
    "colab_type": "text",
    "id": "W5ofqSpT8l2R"
   },
   "source": [
    "# Testing with test image"
   ]
  },
  {
   "cell_type": "code",
   "execution_count": 7,
   "metadata": {
    "colab": {
     "base_uri": "https://localhost:8080/",
     "height": 54
    },
    "colab_type": "code",
    "id": "GSYPzqrwHVBk",
    "outputId": "3c8164a5-9a02-4bb3-83cf-28735e825905"
   },
   "outputs": [
    {
     "name": "stdout",
     "output_type": "stream",
     "text": [
      "Found 1200 images belonging to 2 classes.\n"
     ]
    },
    {
     "name": "stderr",
     "output_type": "stream",
     "text": [
      "C:\\Users\\vinay\\AppData\\Local\\Temp\\ipykernel_21984\\1164686347.py:9: UserWarning: `Model.predict_generator` is deprecated and will be removed in a future version. Please use `Model.predict`, which supports generators.\n",
      "  pred = MaskDetectionModel.predict_generator(test_generator, steps=len(test_generator), verbose=1)\n"
     ]
    },
    {
     "name": "stdout",
     "output_type": "stream",
     "text": [
      "120/120 [==============================] - 119s 973ms/step\n"
     ]
    }
   ],
   "source": [
    "test_generator = data_generator_no_aug.flow_from_directory(\n",
    "    directory='test',\n",
    "    target_size=(image_size, image_size),\n",
    "    batch_size=10,\n",
    "    class_mode=None,\n",
    "    shuffle=False\n",
    ")\n",
    "\n",
    "pred = MaskDetectionModel.predict_generator(test_generator, steps=len(test_generator), verbose=1)\n",
    "cl = np.round(pred)\n",
    "filenames = test_generator.filenames\n",
    "\n",
    "real_class = []\n",
    "for file in filenames:\n",
    "    if re.search(\"with_mask\", file):\n",
    "        real_class.append(1.0)\n",
    "    else:\n",
    "        real_class.append(0.0)\n",
    "\n",
    "predicted_class = cl[:,0]\n",
    "\n",
    "results = pd.DataFrame({\"file\": filenames, \"pr\": pred[:,0], \"pred_class\": predicted_class, \"real_class\": real_class})\n"
   ]
  },
  {
   "cell_type": "code",
   "execution_count": 8,
   "metadata": {
    "colab": {
     "base_uri": "https://localhost:8080/",
     "height": 407
    },
    "colab_type": "code",
    "id": "b68ts5VmbCpR",
    "outputId": "cab36572-c705-4327-cad9-8ec60544fd2c"
   },
   "outputs": [
    {
     "data": {
      "text/html": [
       "<div>\n",
       "<style scoped>\n",
       "    .dataframe tbody tr th:only-of-type {\n",
       "        vertical-align: middle;\n",
       "    }\n",
       "\n",
       "    .dataframe tbody tr th {\n",
       "        vertical-align: top;\n",
       "    }\n",
       "\n",
       "    .dataframe thead th {\n",
       "        text-align: right;\n",
       "    }\n",
       "</style>\n",
       "<table border=\"1\" class=\"dataframe\">\n",
       "  <thead>\n",
       "    <tr style=\"text-align: right;\">\n",
       "      <th></th>\n",
       "      <th>file</th>\n",
       "      <th>pr</th>\n",
       "      <th>pred_class</th>\n",
       "      <th>real_class</th>\n",
       "    </tr>\n",
       "  </thead>\n",
       "  <tbody>\n",
       "    <tr>\n",
       "      <th>0</th>\n",
       "      <td>with_mask\\train_00000859 - Copy (2).jpg</td>\n",
       "      <td>0.998532</td>\n",
       "      <td>1.0</td>\n",
       "      <td>1.0</td>\n",
       "    </tr>\n",
       "    <tr>\n",
       "      <th>1</th>\n",
       "      <td>with_mask\\train_00000859 - Copy - Copy.jpg</td>\n",
       "      <td>0.998532</td>\n",
       "      <td>1.0</td>\n",
       "      <td>1.0</td>\n",
       "    </tr>\n",
       "    <tr>\n",
       "      <th>2</th>\n",
       "      <td>with_mask\\train_00000859 - Copy.jpg</td>\n",
       "      <td>0.998532</td>\n",
       "      <td>1.0</td>\n",
       "      <td>1.0</td>\n",
       "    </tr>\n",
       "    <tr>\n",
       "      <th>3</th>\n",
       "      <td>with_mask\\train_00000859.jpg</td>\n",
       "      <td>0.998532</td>\n",
       "      <td>1.0</td>\n",
       "      <td>1.0</td>\n",
       "    </tr>\n",
       "    <tr>\n",
       "      <th>4</th>\n",
       "      <td>with_mask\\train_00000860 - Copy (2).jpg</td>\n",
       "      <td>0.999804</td>\n",
       "      <td>1.0</td>\n",
       "      <td>1.0</td>\n",
       "    </tr>\n",
       "    <tr>\n",
       "      <th>...</th>\n",
       "      <td>...</td>\n",
       "      <td>...</td>\n",
       "      <td>...</td>\n",
       "      <td>...</td>\n",
       "    </tr>\n",
       "    <tr>\n",
       "      <th>1195</th>\n",
       "      <td>without_mask\\5_1_3_20170119154358954 - Copy (3...</td>\n",
       "      <td>0.239974</td>\n",
       "      <td>0.0</td>\n",
       "      <td>0.0</td>\n",
       "    </tr>\n",
       "    <tr>\n",
       "      <th>1196</th>\n",
       "      <td>without_mask\\5_1_3_20170119154358954 - Copy (4...</td>\n",
       "      <td>0.239974</td>\n",
       "      <td>0.0</td>\n",
       "      <td>0.0</td>\n",
       "    </tr>\n",
       "    <tr>\n",
       "      <th>1197</th>\n",
       "      <td>without_mask\\5_1_3_20170119154358954 - Copy - ...</td>\n",
       "      <td>0.239974</td>\n",
       "      <td>0.0</td>\n",
       "      <td>0.0</td>\n",
       "    </tr>\n",
       "    <tr>\n",
       "      <th>1198</th>\n",
       "      <td>without_mask\\5_1_3_20170119154358954 - Copy.jpg</td>\n",
       "      <td>0.239974</td>\n",
       "      <td>0.0</td>\n",
       "      <td>0.0</td>\n",
       "    </tr>\n",
       "    <tr>\n",
       "      <th>1199</th>\n",
       "      <td>without_mask\\5_1_3_20170119154358954.jpg</td>\n",
       "      <td>0.239974</td>\n",
       "      <td>0.0</td>\n",
       "      <td>0.0</td>\n",
       "    </tr>\n",
       "  </tbody>\n",
       "</table>\n",
       "<p>1200 rows × 4 columns</p>\n",
       "</div>"
      ],
      "text/plain": [
       "                                                   file        pr  pred_class  \\\n",
       "0               with_mask\\train_00000859 - Copy (2).jpg  0.998532         1.0   \n",
       "1            with_mask\\train_00000859 - Copy - Copy.jpg  0.998532         1.0   \n",
       "2                   with_mask\\train_00000859 - Copy.jpg  0.998532         1.0   \n",
       "3                          with_mask\\train_00000859.jpg  0.998532         1.0   \n",
       "4               with_mask\\train_00000860 - Copy (2).jpg  0.999804         1.0   \n",
       "...                                                 ...       ...         ...   \n",
       "1195  without_mask\\5_1_3_20170119154358954 - Copy (3...  0.239974         0.0   \n",
       "1196  without_mask\\5_1_3_20170119154358954 - Copy (4...  0.239974         0.0   \n",
       "1197  without_mask\\5_1_3_20170119154358954 - Copy - ...  0.239974         0.0   \n",
       "1198    without_mask\\5_1_3_20170119154358954 - Copy.jpg  0.239974         0.0   \n",
       "1199           without_mask\\5_1_3_20170119154358954.jpg  0.239974         0.0   \n",
       "\n",
       "      real_class  \n",
       "0            1.0  \n",
       "1            1.0  \n",
       "2            1.0  \n",
       "3            1.0  \n",
       "4            1.0  \n",
       "...          ...  \n",
       "1195         0.0  \n",
       "1196         0.0  \n",
       "1197         0.0  \n",
       "1198         0.0  \n",
       "1199         0.0  \n",
       "\n",
       "[1200 rows x 4 columns]"
      ]
     },
     "execution_count": 8,
     "metadata": {},
     "output_type": "execute_result"
    }
   ],
   "source": [
    "results"
   ]
  },
  {
   "cell_type": "code",
   "execution_count": 9,
   "metadata": {
    "colab": {
     "base_uri": "https://localhost:8080/",
     "height": 35
    },
    "colab_type": "code",
    "id": "8R4_Xs5a21iH",
    "outputId": "cd2f00a0-aaca-464c-e53d-438765922602"
   },
   "outputs": [
    {
     "name": "stdout",
     "output_type": "stream",
     "text": [
      "Accuracy : 0.98\n"
     ]
    }
   ],
   "source": [
    "res = sum(1 for x,y in zip(real_class,predicted_class) if x == y) / len(real_class)\n",
    "print(\"Accuracy :\", res)"
   ]
  },
  {
   "cell_type": "markdown",
   "metadata": {
    "colab_type": "text",
    "id": "R5YCEhnBiT6e"
   },
   "source": [
    "# Save MaskDetectionModel"
   ]
  },
  {
   "cell_type": "code",
   "execution_count": 10,
   "metadata": {
    "colab": {},
    "colab_type": "code",
    "id": "GaKfpVijhX7i"
   },
   "outputs": [
    {
     "name": "stderr",
     "output_type": "stream",
     "text": [
      "C:\\ProgramData\\anaconda3\\Lib\\site-packages\\keras\\src\\engine\\training.py:3103: UserWarning: You are saving your model as an HDF5 file via `model.save()`. This file format is considered legacy. We recommend using instead the native Keras format, e.g. `model.save('my_model.keras')`.\n",
      "  saving_api.save_model(\n"
     ]
    }
   ],
   "source": [
    "MaskDetectionModel.save('maskDetectionModel.h5')"
   ]
  },
  {
   "cell_type": "code",
   "execution_count": null,
   "metadata": {},
   "outputs": [],
   "source": []
  }
 ],
 "metadata": {
  "accelerator": "GPU",
  "colab": {
   "authorship_tag": "ABX9TyMFi/BeB7ZWbpTuyutRO8AE",
   "include_colab_link": true,
   "name": "maskDetection.ipynb",
   "provenance": []
  },
  "kernelspec": {
   "display_name": "Python 3 (ipykernel)",
   "language": "python",
   "name": "python3"
  },
  "language_info": {
   "codemirror_mode": {
    "name": "ipython",
    "version": 3
   },
   "file_extension": ".py",
   "mimetype": "text/x-python",
   "name": "python",
   "nbconvert_exporter": "python",
   "pygments_lexer": "ipython3",
   "version": "3.11.5"
  }
 },
 "nbformat": 4,
 "nbformat_minor": 1
}
